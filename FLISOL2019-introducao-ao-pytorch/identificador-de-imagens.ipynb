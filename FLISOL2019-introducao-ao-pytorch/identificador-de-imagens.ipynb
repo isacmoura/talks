{
  "nbformat": 4,
  "nbformat_minor": 0,
  "metadata": {
    "colab": {
      "name": "Copy of minicurso_pytorch-template.ipynb",
      "version": "0.3.2",
      "provenance": [],
      "include_colab_link": true
    },
    "kernelspec": {
      "name": "python3",
      "display_name": "Python 3"
    }
  },
  "cells": [
    {
      "cell_type": "markdown",
      "metadata": {
        "id": "view-in-github",
        "colab_type": "text"
      },
      "source": [
        "<a href=\"https://colab.research.google.com/github/isacmoura/FLISOL2019-introducao-ao-pytorch/blob/master/Copy_of_minicurso_pytorch_template.ipynb\" target=\"_parent\"><img src=\"https://colab.research.google.com/assets/colab-badge.svg\" alt=\"Open In Colab\"/></a>"
      ]
    },
    {
      "metadata": {
        "id": "scRyX_BcrWHn",
        "colab_type": "text"
      },
      "cell_type": "markdown",
      "source": [
        "# Importando os pacotes necessários"
      ]
    },
    {
      "metadata": {
        "id": "Hr6-ilP_uC8q",
        "colab_type": "code",
        "colab": {
          "base_uri": "https://localhost:8080/",
          "height": 239
        },
        "outputId": "c8f8bd4c-a2d8-4dc6-c305-e212f1ac6831"
      },
      "cell_type": "code",
      "source": [
        "# Primeiro, vamos baixar um arquivo para simplificar o processo de \"plot\" das imagens\n",
        "!wget https://raw.githubusercontent.com/isacmoura/pytorch_scholarship_challenge/master/lesson4/helper.py"
      ],
      "execution_count": 1,
      "outputs": [
        {
          "output_type": "stream",
          "text": [
            "--2019-04-27 12:59:57--  https://raw.githubusercontent.com/isacmoura/pytorch_scholarship_challenge/master/lesson4/helper.py\n",
            "Resolving raw.githubusercontent.com (raw.githubusercontent.com)... 151.101.0.133, 151.101.64.133, 151.101.128.133, ...\n",
            "Connecting to raw.githubusercontent.com (raw.githubusercontent.com)|151.101.0.133|:443... connected.\n",
            "HTTP request sent, awaiting response... 200 OK\n",
            "Length: 2813 (2.7K) [text/plain]\n",
            "Saving to: ‘helper.py’\n",
            "\n",
            "\rhelper.py             0%[                    ]       0  --.-KB/s               \rhelper.py           100%[===================>]   2.75K  --.-KB/s    in 0s      \n",
            "\n",
            "2019-04-27 12:59:57 (52.4 MB/s) - ‘helper.py’ saved [2813/2813]\n",
            "\n"
          ],
          "name": "stdout"
        }
      ]
    },
    {
      "metadata": {
        "id": "S9uZQMid4gEw",
        "colab_type": "code",
        "colab": {
          "base_uri": "https://localhost:8080/",
          "height": 35
        },
        "outputId": "c233d192-2cc0-4f21-90f5-744cb8fa0eff"
      },
      "cell_type": "code",
      "source": [
        "!ls"
      ],
      "execution_count": 2,
      "outputs": [
        {
          "output_type": "stream",
          "text": [
            "helper.py  sample_data\n"
          ],
          "name": "stdout"
        }
      ]
    },
    {
      "metadata": {
        "id": "NY7zTCXxrN0t",
        "colab_type": "code",
        "colab": {}
      },
      "cell_type": "code",
      "source": [
        "import torch\n",
        "from torchvision import datasets, transforms\n",
        "import matplotlib.pyplot as plt\n",
        "# Para renderizar as figuras diretamente no notebook\n",
        "%matplotlib inline\n",
        "# Para renderizar as figuras com a resolução máxima\n",
        "%config InlineBackend.figure_format = 'retina'\n",
        "\n",
        "# Importamos nosso arquivo de ajuda para abstrair conceitos desnecessários neste momento\n",
        "import helper"
      ],
      "execution_count": 0,
      "outputs": []
    },
    {
      "metadata": {
        "id": "HAu8qBg3u5iU",
        "colab_type": "text"
      },
      "cell_type": "markdown",
      "source": [
        "Agora iremos construir nossa rede neural para identificar dígitos em uma imagem.\n",
        "\n",
        "O dataset utilizado será o MNIST, que já é provido pela biblioteca que estamos utilizando. O dataset consiste em dígitos manuscritos em escala de cinza. Cada imagem é 28x28 pixels.\n",
        "\n",
        "Vamos importar nosso dataset e realizar algumas transformações."
      ]
    },
    {
      "metadata": {
        "id": "H7Idx9wHuW92",
        "colab_type": "code",
        "colab": {
          "base_uri": "https://localhost:8080/",
          "height": 294
        },
        "outputId": "0e15f68b-d187-4ff6-f981-3a50f4a544e5"
      },
      "cell_type": "code",
      "source": [
        "transform = transforms.Compose([transforms.ToTensor(),\n",
        "                              transforms.Normalize([0.5], [0.5])])\n",
        "\n",
        "# Dataset de treino\n",
        "trainset = datasets.FashionMNIST('~/pytorch/FMINST', download=True,\n",
        "                                 transform=transform, train=True)\n",
        "trainloader = torch.utils.data.DataLoader(trainset,  batch_size=64,\n",
        "                                          shuffle=True)\n",
        "\n",
        "# Dataset de teste\n",
        "testset = trainset = datasets.FashionMNIST('~/pytorch/FMINST', download=True,\n",
        "                                           transform=transform, train=False)\n",
        "testloader = torch.utils.data.DataLoader(testset,  batch_size=64,\n",
        "                                         shuffle=True)"
      ],
      "execution_count": 9,
      "outputs": [
        {
          "output_type": "stream",
          "text": [
            "\r0it [00:00, ?it/s]"
          ],
          "name": "stderr"
        },
        {
          "output_type": "stream",
          "text": [
            "Downloading http://fashion-mnist.s3-website.eu-central-1.amazonaws.com/train-images-idx3-ubyte.gz to /root/pytorch/FMINST/FashionMNIST/raw/train-images-idx3-ubyte.gz\n"
          ],
          "name": "stdout"
        },
        {
          "output_type": "stream",
          "text": [
            "26427392it [00:01, 13713682.74it/s]                             \n"
          ],
          "name": "stderr"
        },
        {
          "output_type": "stream",
          "text": [
            "Extracting /root/pytorch/FMINST/FashionMNIST/raw/train-images-idx3-ubyte.gz\n"
          ],
          "name": "stdout"
        },
        {
          "output_type": "stream",
          "text": [
            "\r0it [00:00, ?it/s]"
          ],
          "name": "stderr"
        },
        {
          "output_type": "stream",
          "text": [
            "Downloading http://fashion-mnist.s3-website.eu-central-1.amazonaws.com/train-labels-idx1-ubyte.gz to /root/pytorch/FMINST/FashionMNIST/raw/train-labels-idx1-ubyte.gz\n"
          ],
          "name": "stdout"
        },
        {
          "output_type": "stream",
          "text": [
            "32768it [00:00, 99395.01it/s]                            \n",
            "0it [00:00, ?it/s]"
          ],
          "name": "stderr"
        },
        {
          "output_type": "stream",
          "text": [
            "Extracting /root/pytorch/FMINST/FashionMNIST/raw/train-labels-idx1-ubyte.gz\n",
            "Downloading http://fashion-mnist.s3-website.eu-central-1.amazonaws.com/t10k-images-idx3-ubyte.gz to /root/pytorch/FMINST/FashionMNIST/raw/t10k-images-idx3-ubyte.gz\n"
          ],
          "name": "stdout"
        },
        {
          "output_type": "stream",
          "text": [
            "4423680it [00:01, 4065918.66it/s]                             \n",
            "0it [00:00, ?it/s]"
          ],
          "name": "stderr"
        },
        {
          "output_type": "stream",
          "text": [
            "Extracting /root/pytorch/FMINST/FashionMNIST/raw/t10k-images-idx3-ubyte.gz\n",
            "Downloading http://fashion-mnist.s3-website.eu-central-1.amazonaws.com/t10k-labels-idx1-ubyte.gz to /root/pytorch/FMINST/FashionMNIST/raw/t10k-labels-idx1-ubyte.gz\n"
          ],
          "name": "stdout"
        },
        {
          "output_type": "stream",
          "text": [
            "8192it [00:00, 33841.82it/s]            "
          ],
          "name": "stderr"
        },
        {
          "output_type": "stream",
          "text": [
            "Extracting /root/pytorch/FMINST/FashionMNIST/raw/t10k-labels-idx1-ubyte.gz\n",
            "Processing...\n",
            "Done!\n"
          ],
          "name": "stdout"
        },
        {
          "output_type": "stream",
          "text": [
            "\n"
          ],
          "name": "stderr"
        }
      ]
    },
    {
      "metadata": {
        "id": "p2sFfOk3xh_3",
        "colab_type": "code",
        "colab": {
          "base_uri": "https://localhost:8080/",
          "height": 250
        },
        "outputId": "d32a5098-a356-49c4-976f-2ea2df6f2815"
      },
      "cell_type": "code",
      "source": [
        "image, label = next(iter(trainloader))\n",
        "helper.imshow(image[0,:]);"
      ],
      "execution_count": 12,
      "outputs": [
        {
          "output_type": "display_data",
          "data": {
            "image/png": "[encoded data removed]",
            "text/plain": [
              "<Figure size 432x288 with 1 Axes>"
            ]
          },
          "metadata": {
            "tags": [],
            "image/png": {
              "width": 233,
              "height": 233
            }
          }
        }
      ]
    },
    {
      "metadata": {
        "id": "_gITnRKFM94x",
        "colab_type": "text"
      },
      "cell_type": "markdown",
      "source": [
        "# Criando nossa rede neural\n",
        "\n",
        "Agora vamos definir nossa rede.\n",
        "\n",
        "Cada imagem é 28x28, resultando 784 pixels, e há 10 classes. \n",
        "\n",
        "Brinque um pouco e inclua uma camada oculta, pelo menos. Para função de ativação, use as ativações ReLU para as camadas.\n",
        "\n",
        "Cabe a você quantas camadas você adiciona e o tamanho dessas camadas."
      ]
    },
    {
      "metadata": {
        "id": "yKx1kjk-NpsW",
        "colab_type": "code",
        "colab": {}
      },
      "cell_type": "code",
      "source": [
        "from torch import nn, optim\n",
        "import torch.nn.functional as F"
      ],
      "execution_count": 0,
      "outputs": []
    },
    {
      "metadata": {
        "id": "5RkLY31vN3jz",
        "colab_type": "code",
        "colab": {}
      },
      "cell_type": "code",
      "source": [
        "class Rede(nn.Module):\n",
        "  # usado para inicializar o objeto quando vai criar uma instância daquela classe (semelhante ao construtor)\n",
        "  def __init__(self):\n",
        "    super().__init__()\n",
        "    \n",
        "    # Adicione mais cadamas ocultas, se quiser tentar melhorar a performance\n",
        "    self.input = nn.Linear(784, 128)\n",
        "    self.hl1 = nn.Linear(128, 64)\n",
        "    self.output = nn.Linear(64, 10)\n",
        "    \n",
        "  def forward(self, x):\n",
        "    x = x.view(x.shape[0], -1)\n",
        "    \n",
        "    x = self.input(x)\n",
        "    x = F.relu(x)\n",
        "    x = self.hl1(x)\n",
        "    x = F.relu(x)\n",
        "    x = F.log_softmax(self.output(x), dim=1)\n",
        "\n",
        "    return x"
      ],
      "execution_count": 0,
      "outputs": []
    },
    {
      "metadata": {
        "id": "3zxwsMOiPCX6",
        "colab_type": "text"
      },
      "cell_type": "markdown",
      "source": [
        "# Hora de treinar\n",
        "\n",
        "Iremos utilizar algo chamado criterion, uma métrica para calcular o quanto nosso algoritmo está errando (Função de perca).\n",
        "\n",
        "Também utilizaremos um otimizador.\n",
        "\n",
        "## Os quatro passos de uma rede neural\n",
        "\n",
        "\n",
        "1. Realizar um passo adiante para obter os logits.\n",
        "2. Utilizar estes logits para calcular a perda.\n",
        "3. Realizar uma passagem para trás (backward pass) através da rede com loss.backward() para calcular os gradientes.\n",
        "4. Atualizar os pesos com o otimizador.\n",
        "\n"
      ]
    },
    {
      "metadata": {
        "id": "scNOdHUMFvl5",
        "colab_type": "code",
        "colab": {}
      },
      "cell_type": "code",
      "source": [
        "model = Rede()\n",
        "\n",
        "#Troque a loss function e o otimizador e veja o que acontece com a performance\n",
        "criterion = nn.CrossEntropyLoss()\n",
        "optimizer = optim.SGD(model.parameters(), lr=0.03)"
      ],
      "execution_count": 0,
      "outputs": []
    },
    {
      "metadata": {
        "id": "4UtLgb9IGI6y",
        "colab_type": "code",
        "colab": {
          "base_uri": "https://localhost:8080/",
          "height": 109
        },
        "outputId": "90fc3885-ae95-4a7c-a9e9-edb81487ab20"
      },
      "cell_type": "code",
      "source": [
        "model"
      ],
      "execution_count": 24,
      "outputs": [
        {
          "output_type": "execute_result",
          "data": {
            "text/plain": [
              "Rede(\n",
              "  (input): Linear(in_features=784, out_features=128, bias=True)\n",
              "  (hl1): Linear(in_features=128, out_features=64, bias=True)\n",
              "  (output): Linear(in_features=64, out_features=10, bias=True)\n",
              ")"
            ]
          },
          "metadata": {
            "tags": []
          },
          "execution_count": 24
        }
      ]
    },
    {
      "metadata": {
        "id": "ViPDTKrkPCHs",
        "colab_type": "code",
        "colab": {
          "base_uri": "https://localhost:8080/",
          "height": 109
        },
        "outputId": "6287a347-469e-441d-8459-245c3c564562"
      },
      "cell_type": "code",
      "source": [
        "# Baixe ou suba o número de épocas\n",
        "epochs = 5\n",
        "\n",
        "for e in range(epochs):\n",
        "  running_loss = 0\n",
        "  \n",
        "  for images, labels in trainloader:\n",
        "    # Limpar os gradientes\n",
        "    optimizer.zero_grad()\n",
        "\n",
        "    # Forward\n",
        "    saida = model(images)\n",
        "    # Perda\n",
        "    perca = criterion(saida, labels)\n",
        "    # passo pra tras\n",
        "    perca.backward()\n",
        "    # otimizar os pesos\n",
        "    optimizer.step()\n",
        "    running_loss += perca.item()\n",
        "  else:\n",
        "    print(f\"Training loss: {running_loss/len(trainloader)}\")"
      ],
      "execution_count": 25,
      "outputs": [
        {
          "output_type": "stream",
          "text": [
            "Training loss: 0.7183913413141327\n",
            "Training loss: 0.4596957409623335\n",
            "Training loss: 0.4099561448639898\n",
            "Training loss: 0.38224119743876367\n",
            "Training loss: 0.36055089609582286\n"
          ],
          "name": "stdout"
        }
      ]
    },
    {
      "metadata": {
        "id": "DuhCSLteHDA2",
        "colab_type": "text"
      },
      "cell_type": "markdown",
      "source": [
        "Sua vez! Agora iremos, desenhar as predições realizadas do algoritmo construído"
      ]
    },
    {
      "metadata": {
        "id": "3WUayHz6HALR",
        "colab_type": "code",
        "colab": {
          "base_uri": "https://localhost:8080/",
          "height": 223
        },
        "outputId": "a0ff922e-dd48-4a00-ff57-5ae8c6d3c172"
      },
      "cell_type": "code",
      "source": [
        "# Testar\n",
        "\n",
        "dataiter = iter(testloader)\n",
        "images, labels = dataiter.next()\n",
        "img = images[0]\n",
        "\n",
        "# Converter 2D para um vetor 1D\n",
        "img = img.resize_(1, 784)\n",
        "\n",
        "# Passa a imagem através da rede\n",
        "ps = torch.exp(model(img))\n",
        "\n",
        "# Plot the image and probabilities\n",
        "helper.view_classify(img.resize_(1, 28, 28), ps, version='Fashion')"
      ],
      "execution_count": 27,
      "outputs": [
        {
          "output_type": "display_data",
          "data": {
            "image/png": "[encoded data removed]",
            "text/plain": [
              "<Figure size 432x648 with 2 Axes>"
            ]
          },
          "metadata": {
            "tags": [],
            "image/png": {
              "width": 423,
              "height": 206
            }
          }
        }
      ]
    },
    {
      "metadata": {
        "id": "jnLG6oNBHrOx",
        "colab_type": "code",
        "colab": {}
      },
      "cell_type": "code",
      "source": [
        ""
      ],
      "execution_count": 0,
      "outputs": []
    }
  ]
}
