{
  "nbformat": 4,
  "nbformat_minor": 0,
  "metadata": {
    "colab": {
      "name": "minicurso_pytorch-template.ipynb",
      "version": "0.3.2",
      "provenance": [],
      "toc_visible": true,
      "include_colab_link": true
    },
    "kernelspec": {
      "name": "python3",
      "display_name": "Python 3"
    }
  },
  "cells": [
    {
      "cell_type": "markdown",
      "metadata": {
        "id": "view-in-github",
        "colab_type": "text"
      },
      "source": [
        "<a href=\"https://colab.research.google.com/github/isacmoura/FLISOL2019-introducao-ao-pytorch/blob/master/minicurso_pytorch_template.ipynb\" target=\"_parent\"><img src=\"https://colab.research.google.com/assets/colab-badge.svg\" alt=\"Open In Colab\"/></a>"
      ]
    },
    {
      "metadata": {
        "id": "scRyX_BcrWHn",
        "colab_type": "text"
      },
      "cell_type": "markdown",
      "source": [
        "# Importando os pacotes necessários"
      ]
    },
    {
      "metadata": {
        "id": "Hr6-ilP_uC8q",
        "colab_type": "code",
        "colab": {}
      },
      "cell_type": "code",
      "source": [
        "# Primeiro, vamos baixar um arquivo para simplificar o processo de \"plot\" das imagens\n",
        "!wget https://raw.githubusercontent.com/isacmoura/pytorch_scholarship_challenge/master/lesson4/helper.py"
      ],
      "execution_count": 0,
      "outputs": []
    },
    {
      "metadata": {
        "id": "NY7zTCXxrN0t",
        "colab_type": "code",
        "colab": {}
      },
      "cell_type": "code",
      "source": [
        "import torch\n",
        "from torchvision import datasets, transforms\n",
        "import matplotlib.pyplot as plt\n",
        "# Para renderizar as figuras diretamente no notebook\n",
        "%matplotlib inline\n",
        "# Para renderizar as figuras com a resolução máxima\n",
        "%config InlineBackend.figure_format = 'retina'\n",
        "\n",
        "# Importamos nosso arquivo de ajuda para abstrair conceitos desnecessários neste momento\n",
        "import helper"
      ],
      "execution_count": 0,
      "outputs": []
    },
    {
      "metadata": {
        "id": "HAu8qBg3u5iU",
        "colab_type": "text"
      },
      "cell_type": "markdown",
      "source": [
        "Agora iremos construir nossa rede neural para identificar dígitos em uma imagem.\n",
        "\n",
        "O dataset utilizado será o MNIST, que já é provido pela biblioteca que estamos utilizando. O dataset consiste em dígitos manuscritos em escala de cinza. Cada imagem é 28x28 pixels.\n",
        "\n",
        "Vamos importar nosso dataset e realizar algumas transformações."
      ]
    },
    {
      "metadata": {
        "id": "H7Idx9wHuW92",
        "colab_type": "code",
        "colab": {}
      },
      "cell_type": "code",
      "source": [
        "transform = #TODO\n",
        "\n",
        "# Dataset de treino\n",
        "trainset = #TODO\n",
        "trainloader = #TODO\n",
        "\n",
        "# Dataset de teste\n",
        "testset = #TODO\n",
        "testloader = #TODO"
      ],
      "execution_count": 0,
      "outputs": []
    },
    {
      "metadata": {
        "id": "p2sFfOk3xh_3",
        "colab_type": "code",
        "colab": {}
      },
      "cell_type": "code",
      "source": [
        "image, label = next(iter(trainloader))\n",
        "helper.imshow(image[0,:]);"
      ],
      "execution_count": 0,
      "outputs": []
    },
    {
      "metadata": {
        "id": "_gITnRKFM94x",
        "colab_type": "text"
      },
      "cell_type": "markdown",
      "source": [
        "# Criando nossa rede neural\n",
        "\n",
        "Agora vamos definir nossa rede.\n",
        "\n",
        "Cada imagem é 28x28, resultando 784 pixels, e há 10 classes. \n",
        "\n",
        "Brinque um pouco e inclua uma camada oculta, pelo menos. Para função de ativação, use as ativações ReLU para as camadas.\n",
        "\n",
        "Cabe a você quantas camadas você adiciona e o tamanho dessas camadas."
      ]
    },
    {
      "metadata": {
        "id": "yKx1kjk-NpsW",
        "colab_type": "code",
        "colab": {}
      },
      "cell_type": "code",
      "source": [
        "from torch import nn, optim\n",
        "import torch.nn.functional as F"
      ],
      "execution_count": 0,
      "outputs": []
    },
    {
      "metadata": {
        "id": "5RkLY31vN3jz",
        "colab_type": "code",
        "colab": {}
      },
      "cell_type": "code",
      "source": [
        "class Rede(nn.Module):\n",
        "  # usado para inicializar o objeto quando vai criar uma instância daquela classe (semelhante ao construtor)\n",
        "  def __init__(self):\n",
        "    super().__init__()\n",
        "    \n",
        "    # Adicione mais cadamas ocultas, se quiser tentar melhorar a performance\n",
        "    self.input = nn.Linear(784, 128)\n",
        "    self.hl1 = nn.Linear(128, 64)\n",
        "    self.output = nn.Linear(64, 10)\n",
        "    \n",
        "  def forward(self, x):\n",
        "    x = x.view(x.shape[0], -1)\n",
        "    \n",
        "    #TODO\n",
        "\n",
        "    return x"
      ],
      "execution_count": 0,
      "outputs": []
    },
    {
      "metadata": {
        "id": "3zxwsMOiPCX6",
        "colab_type": "text"
      },
      "cell_type": "markdown",
      "source": [
        "# Hora de treinar\n",
        "\n",
        "Iremos utilizar algo chamado criterion, uma métrica para calcular o quanto nosso algoritmo está errando (Função de perca).\n",
        "\n",
        "Também utilizaremos um otimizador.\n",
        "\n",
        "## Os quatro passos de uma rede neural\n",
        "\n",
        "\n",
        "1. Realizar um passo adiante para obter os logits.\n",
        "2. Utilizar estes logits para calcular a perda.\n",
        "3. Realizar uma passagem para trás (backward pass) através da rede com loss.backward() para calcular os gradientes.\n",
        "4. Atualizar os pesos com o otimizador.\n",
        "\n"
      ]
    },
    {
      "metadata": {
        "id": "scNOdHUMFvl5",
        "colab_type": "code",
        "colab": {}
      },
      "cell_type": "code",
      "source": [
        "model = Rede()\n",
        "\n",
        "#Troque a loss function e o otimizador e veja o que acontece com a performance\n",
        "criterion = nn.CrossEntropyLoss()\n",
        "optimizer = optim.SGD(model.parameters(), lr=0.03)"
      ],
      "execution_count": 0,
      "outputs": []
    },
    {
      "metadata": {
        "id": "ViPDTKrkPCHs",
        "colab_type": "code",
        "colab": {}
      },
      "cell_type": "code",
      "source": [
        "# Baixe ou suba o número de épocas\n",
        "epochs = 5\n",
        "\n",
        "for e in range(epochs):\n",
        "  running_loss = 0\n",
        "  \n",
        "  for images, labels in trainloader:\n",
        "    # Limpar os gradientes\n",
        "    optimizer.zero_grad()\n",
        "\n",
        "    #TODO (Os 4 passos)\n",
        "    running_loss += loss.item()\n",
        "  else:\n",
        "    print(f\"Training loss: {running_loss/len(trainloader)}\")"
      ],
      "execution_count": 0,
      "outputs": []
    },
    {
      "metadata": {
        "id": "DuhCSLteHDA2",
        "colab_type": "text"
      },
      "cell_type": "markdown",
      "source": [
        "Sua vez! Agora iremos, desenhar as predições realizadas do algoritmo construído"
      ]
    },
    {
      "metadata": {
        "id": "3WUayHz6HALR",
        "colab_type": "code",
        "colab": {}
      },
      "cell_type": "code",
      "source": [
        "# Testar\n",
        "\n",
        "dataiter = iter(testloader)\n",
        "images, labels = dataiter.next()\n",
        "img = images[0]\n",
        "\n",
        "# Converter 2D para um vetor 1D\n",
        "img = img.resize_(1, 784)\n",
        "\n",
        "# Passa a imagem através da rede\n",
        "ps = torch.exp(model(img))\n",
        "\n",
        "# Plot the image and probabilities\n",
        "helper.view_classify(img.resize_(1, 28, 28), ps, version='Fashion')"
      ],
      "execution_count": 0,
      "outputs": []
    },
    {
      "metadata": {
        "id": "jnLG6oNBHrOx",
        "colab_type": "code",
        "colab": {}
      },
      "cell_type": "code",
      "source": [
        ""
      ],
      "execution_count": 0,
      "outputs": []
    }
  ]
}